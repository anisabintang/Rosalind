{
  "nbformat": 4,
  "nbformat_minor": 0,
  "metadata": {
    "colab": {
      "provenance": []
    },
    "kernelspec": {
      "name": "python3",
      "display_name": "Python 3"
    },
    "language_info": {
      "name": "python"
    }
  },
  "cells": [
    {
      "cell_type": "code",
      "source": [
        "Nucleotides = ['A', 'C', 'G', 'T']"
      ],
      "metadata": {
        "id": "DkVtfVr4J1z4"
      },
      "execution_count": null,
      "outputs": []
    },
    {
      "cell_type": "code",
      "execution_count": null,
      "metadata": {
        "id": "yWn1NyW1ISnu"
      },
      "outputs": [],
      "source": [
        "def validateSeq(dna_seq):\n",
        "    tmpseq = dna_seq.upper()\n",
        "    for nuc in tmpseq:\n",
        "        if nuc not in Nucleotides:\n",
        "            return False\n",
        "    return tmpseq"
      ]
    },
    {
      "cell_type": "code",
      "source": [
        "def countNucFrequency(seq):\n",
        "    tmpFreqDict = {\"A\": 0, \"C\": 0, \"G\": 0, \"T\": 0}\n",
        "    for nuc in seq:\n",
        "        tmpFreqDict[nuc] += 1\n",
        "    return tmpFreqDict"
      ],
      "metadata": {
        "id": "oO3aourOIiIH"
      },
      "execution_count": null,
      "outputs": []
    },
    {
      "cell_type": "code",
      "source": [
        "import random\n"
      ],
      "metadata": {
        "id": "AoTM8YdCI1Jz"
      },
      "execution_count": null,
      "outputs": []
    },
    {
      "cell_type": "code",
      "source": [
        "# Creating a random DNA sequence for testing:\n",
        "#randDNAStr = 'AGTC'.join([random.choice(Nucleotides) for nuc in range(50)])\n",
        "randDNAStr = 'GGTTGATTACAATCGTGCTGATGTCGTCTGTATCATTTTTAATACTTTCCGTTGCGGCGTGCGGGCCTTATCGTACTGTTCCAGATTCATATTGGAAGTGGAGCCCACAGTTCATAATGCTAGACTATGTCCGACGGTCATGGACCGGTGATCCTTTGTAAAATAGTAGCCAGTGTTCGAAAAGCAGGATTCCACCATTCGAGGTAGTCCAGAACCCCATCGAGCTTGGGGTAACTCGGTAATTTCCGATACTTACGGAGGATGGCACAGGTCGGTAACTGCATATTACATGATGAAGATATAATTTGAAATGGAGAAGCGACCTGTAGCCGGGAATTGGTACATGCTTTATTGACTACGAGCAGTGGGCTCCTTACGAGGAAACGGCTTAAGGAATCCCTTCATGATCGGCTACAGGGATTTCATAATGTGGGGAAGAAGCGTATACATGCAAGTCGCGGTTTTTCTACTTAGGAGGAAAAGAAGACCACTACCTCGATCTAACACTACGGCGTTTCCGGATAACAGTCACTCTAGCGATTGCGGTGTTGTGGTCGCTACTCGAGTAAGGTCGTGACGCCTCTACCCTCACCTACCCGGTACGAGCGTTACGCGCCTCCCATCTTAGCCACGAACGCATAATAGTTAATCGCGGTTCCTTGTGATAGCAAGTGGCGCCGTTAACATTATGAAACGGTACACCCACTTGGCAGATGTCGTTAACCTTCCGCAGCCGAATGCTAATTAATCGAGATTGACACTCTCTGCGTATTGCGTTTTATCCCGCCGTTGCTTTCCCGGCTAACTGCAAAG'\n",
        "\n",
        "print(validateSeq(randDNAStr))\n",
        "print(countNucFrequency(randDNAStr))\n"
      ],
      "metadata": {
        "colab": {
          "base_uri": "https://localhost:8080/"
        },
        "id": "GmonCH7PJHnZ",
        "outputId": "c8d0887e-0cb5-4405-f833-885171458014"
      },
      "execution_count": null,
      "outputs": [
        {
          "output_type": "stream",
          "name": "stdout",
          "text": [
            "GGTTGATTACAATCGTGCTGATGTCGTCTGTATCATTTTTAATACTTTCCGTTGCGGCGTGCGGGCCTTATCGTACTGTTCCAGATTCATATTGGAAGTGGAGCCCACAGTTCATAATGCTAGACTATGTCCGACGGTCATGGACCGGTGATCCTTTGTAAAATAGTAGCCAGTGTTCGAAAAGCAGGATTCCACCATTCGAGGTAGTCCAGAACCCCATCGAGCTTGGGGTAACTCGGTAATTTCCGATACTTACGGAGGATGGCACAGGTCGGTAACTGCATATTACATGATGAAGATATAATTTGAAATGGAGAAGCGACCTGTAGCCGGGAATTGGTACATGCTTTATTGACTACGAGCAGTGGGCTCCTTACGAGGAAACGGCTTAAGGAATCCCTTCATGATCGGCTACAGGGATTTCATAATGTGGGGAAGAAGCGTATACATGCAAGTCGCGGTTTTTCTACTTAGGAGGAAAAGAAGACCACTACCTCGATCTAACACTACGGCGTTTCCGGATAACAGTCACTCTAGCGATTGCGGTGTTGTGGTCGCTACTCGAGTAAGGTCGTGACGCCTCTACCCTCACCTACCCGGTACGAGCGTTACGCGCCTCCCATCTTAGCCACGAACGCATAATAGTTAATCGCGGTTCCTTGTGATAGCAAGTGGCGCCGTTAACATTATGAAACGGTACACCCACTTGGCAGATGTCGTTAACCTTCCGCAGCCGAATGCTAATTAATCGAGATTGACACTCTCTGCGTATTGCGTTTTATCCCGCCGTTGCTTTCCCGGCTAACTGCAAAG\n",
            "{'A': 202, 'C': 190, 'G': 201, 'T': 220}\n"
          ]
        }
      ]
    },
    {
      "cell_type": "code",
      "source": [],
      "metadata": {
        "id": "5wlhVb0WJIAc"
      },
      "execution_count": null,
      "outputs": []
    }
  ]
}